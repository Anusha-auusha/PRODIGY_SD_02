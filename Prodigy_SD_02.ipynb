import random

def main():
    # Generate a random number between 1 and 100
    number_to_guess = random.randint(1, 100)
    attempts = 0
    guess = None

    print("Guess the Number Game")
    print("I'm thinking of a number between 1 and 100.")
    
    while guess != number_to_guess:
        # Prompt the user to enter a guess
        guess = int(input("Enter your guess: "))
        attempts += 1
        
        # Provide feedback
        if guess < number_to_guess:
            print("Too low! Try again.")
        elif guess > number_to_guess:
            print("Too high! Try again.")
    
    # The user has guessed the correct number
    print(f"Congratulations! You've guessed the number {number_to_guess} correctly in {attempts} attempts.")

if __name__ == "__main__":
    main()
